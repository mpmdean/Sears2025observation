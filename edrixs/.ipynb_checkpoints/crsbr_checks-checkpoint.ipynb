{
 "cells": [
  {
   "cell_type": "code",
   "execution_count": 10,
   "id": "99ecc7c0-726d-4810-ba27-2970da8b8d12",
   "metadata": {},
   "outputs": [],
   "source": [
    "import edrixs\n",
    "import numpy as np\n",
    "import scipy as sp\n",
    "from scipy.sparse import csr_array"
   ]
  },
  {
   "cell_type": "markdown",
   "id": "e71d740c-0255-4565-bc5f-1d2a4a815f70",
   "metadata": {},
   "source": [
    "# Compute the charge transfer energy offset\n",
    "## (Energy cost to move a hole to a ligand when the metal-ligand hopping is turned off)"
   ]
  },
  {
   "cell_type": "code",
   "execution_count": 11,
   "id": "a9218316-d257-4f39-91f3-d939b6422b0a",
   "metadata": {},
   "outputs": [],
   "source": [
    "# Set the number of d electrons, and orbitals\n",
    "nd = 3\n",
    "norb_d = 10\n",
    "norb_bath = 10\n",
    "nbath = 1\n",
    "v_noccu  = nd + nbath*norb_d\n",
    "shell_name = ('d', 'p') # valence and core shells for XAS calculation"
   ]
  },
  {
   "cell_type": "code",
   "execution_count": 12,
   "id": "19d0b027-837a-460a-a4d0-c86794a9ca6e",
   "metadata": {},
   "outputs": [],
   "source": [
    "# Get the atomic values for the Slater and SOC parameters\n",
    "info  = edrixs.utils.get_atom_data('Cr', '3d', nd, edge='L3')\n",
    "zeta_d_i = info['v_soc_i'][0]\n",
    "zeta_d_n = info['v_soc_n'][0]\n",
    "c_soc = info['c_soc']"
   ]
  },
  {
   "cell_type": "code",
   "execution_count": 13,
   "id": "6653b841-d861-49a8-ad3a-20ddc53cd547",
   "metadata": {},
   "outputs": [],
   "source": [
    "# Set the adjustable parameters\n",
    "U_dd = 4\n",
    "U_dp = 6\n",
    "\n",
    "ten_dq = .2\n",
    "Delta = 0\n",
    "scale_dd = 0.72\n",
    "scale_dp = 0.5\n",
    "\n",
    "# Compute the Slater parameters we will be using\n",
    "F2_dd_i = info['slater_i'][1][1] * scale_dd\n",
    "F4_dd_i = info['slater_i'][2][1] * scale_dd\n",
    "F0_dd_i = U_dd + edrixs.get_F0('d', F2_dd_i, F4_dd_i)\n",
    "\n",
    "F2_dd_n = info['slater_n'][1][1] * scale_dd\n",
    "F4_dd_n = info['slater_n'][2][1] * scale_dd\n",
    "F0_dd_n = U_dd + edrixs.get_F0('d', F2_dd_n, F4_dd_n)\n",
    "\n",
    "\n",
    "F2_dp = info['slater_n'][4][1] * scale_dp\n",
    "G1_dp = info['slater_n'][5][1] * scale_dp\n",
    "G3_dp = info['slater_n'][6][1] * scale_dp\n",
    "F0_dp = U_dp + edrixs.get_F0('dp', G1_dp, G3_dp)\n",
    "\n",
    "slater = ([F0_dd_i, F2_dd_i, F4_dd_i],  # initial\n",
    "          [F0_dd_n, F2_dd_n, F4_dd_n, F0_dp, F2_dp, G1_dp, G3_dp])  # with core hole"
   ]
  },
  {
   "cell_type": "code",
   "execution_count": 14,
   "id": "74befc9b-d28f-4f2d-b23e-7e79ecd9ab0b",
   "metadata": {},
   "outputs": [],
   "source": [
    "# Hopping matrix which is output from Julia\n",
    "twoferm = np.array([ [3.201, 0, 0, 0, 0, -2.426, 0, 0, 0, 0], \n",
    "                     [0, 3.227, 0.0147, 0, 0, 0, -2.313, -0.15, 0, 0],\n",
    "                     [0, 0.0147, 2.662, 0, 0, 0, 0.159, -1.49, 0, 0],\n",
    "                     [0, 0, 0, 2.733, -0.041, 0, 0, 0, -1.383, -0.068], \n",
    "                     [0, 0, 0, -0.041, 2.733, 0, 0, 0, -0.068, -1.383], \n",
    "                     [-2.426, 0, 0, 0, 0, 1.573, 0, 0, 0, 0], \n",
    "                     [0, -2.313, 0.159, 0, 0, 0, 1.56, 0.211, 0, 0], \n",
    "                     [0, -0.15, -1.49, 0, 0, 0, 0.211, -0.181, 0, 0], \n",
    "                     [0, 0, 0, -1.383, -0.068, 0, 0, 0, 0.0096, -0.061], \n",
    "                     [0, 0, 0, -0.068, -1.383, 0, 0, 0, -0.061, 0.0096] ] )\n",
    "\n",
    "# Set the off-diagonal blocks to zero\n",
    "twoferm[5:,:5] = np.zeros((5,5))\n",
    "twoferm[:5,5:] = np.zeros((5,5))\n",
    "# Take into account the fact that the orbitals are listed in a different order than in edRIXS\n",
    "basis_change = np.array([[0, 0, 0, 1, 0],\n",
    "                        [1, 0, 0, 0, 0],\n",
    "                        [0, 0, 0, 0, 1], \n",
    "                        [0, 1, 0, 0, 0], \n",
    "                        [0, 0, 1, 0, 0]])\n",
    "bc = sp.linalg.block_diag(basis_change, basis_change)\n",
    "H_MO = bc.transpose().dot(twoferm.dot(bc ) )"
   ]
  },
  {
   "cell_type": "code",
   "execution_count": 15,
   "id": "1d4406b6-b15c-40de-b209-95c36e2ef961",
   "metadata": {},
   "outputs": [
    {
     "name": "stdout",
     "output_type": "stream",
     "text": [
      "U_dd = 4.000 eV\n",
      "U_dp = 6.000 eV\n",
      "E_p = -15.158 eV\n",
      "\n"
     ]
    }
   ],
   "source": [
    "# Set up the two fermion matrices for the initial and intermdiate states\n",
    "hopping_i = np.zeros((20,20), dtype=complex)\n",
    "hopping_n = np.zeros((20,20), dtype=complex)\n",
    "\n",
    "# Crystal field parameter\n",
    "deg = ten_dq \n",
    "hopping_i_temp = H_MO + np.diag([deg, 0, 0, deg, 0, 0, 0, 0, 0, 0, ])\n",
    "hopping_n_temp = H_MO + np.diag([deg, 0, 0, deg, 0, 0, 0, 0, 0, 0, ])\n",
    "\n",
    "# Offsets to the ligand and d levels taking into account U and Delta\n",
    "E_d, E_L = edrixs.CT_imp_bath(U_dd, Delta, nd)\n",
    "E_dc, E_Lc, E_p = edrixs.CT_imp_bath_core_hole(U_dd, U_dp, Delta, nd)\n",
    "\n",
    "## d onsite\n",
    "hopping_i_temp[:5,:5] += np.diag([E_d]*5)\n",
    "## d onsite with a core hole\n",
    "hopping_n_temp[:5,:5] += np.diag([E_dc ]*5)\n",
    "## L onsite\n",
    "hopping_i_temp[5:,5:] += np.diag([E_L ]*5)\n",
    "## L onsite with a core hole\n",
    "hopping_n_temp[5:,5:] += np.diag([E_Lc ]*5)\n",
    "\n",
    "hopping_i[0:20:2,0:20:2] += hopping_i_temp\n",
    "hopping_i[1:20:2,1:20:2] += hopping_i_temp\n",
    "hopping_n[0:20:2,0:20:2] += hopping_n_temp\n",
    "hopping_n[1:20:2,1:20:2] += hopping_n_temp\n",
    "\n",
    "## Add SOC\n",
    "hopping_i[:10,:10] += edrixs.cb_op(edrixs.atom_hsoc('d', zeta_d_i), edrixs.tmat_c2r('d', True))\n",
    "hopping_n[:10,:10] += edrixs.cb_op(edrixs.atom_hsoc('d', zeta_d_n), edrixs.tmat_c2r('d', True))\n",
    "\n",
    "message = (\"U_dd = {:.3f} eV\\n\"\n",
    "           \"U_dp = {:.3f} eV\\n\"\n",
    "           \"E_p = {:.3f} eV\\n\"\n",
    "          )\n",
    "print(message.format(U_dd, U_dp, E_p))"
   ]
  },
  {
   "cell_type": "code",
   "execution_count": 16,
   "id": "28bae03d-f6ff-4628-bb0e-3fe2c4f2b791",
   "metadata": {},
   "outputs": [
    {
     "name": "stdout",
     "output_type": "stream",
     "text": [
      "[0.         0.         0.01466667]\n"
     ]
    }
   ],
   "source": [
    "ext_B = np.array([0.00, 0.00, 0.044/3])\n",
    "print(ext_B) # Vector of external magnetic field with respect to global `xyz`-axis.\n",
    "on_which = 'spin'"
   ]
  },
  {
   "cell_type": "code",
   "execution_count": 17,
   "id": "734a0805-f4b2-4b6c-b590-ea304353b3de",
   "metadata": {},
   "outputs": [],
   "source": [
    "umat_chb = np.zeros((20, 20, 20, 20), dtype=complex)\n",
    "umat_delectrons_chb = edrixs.get_umat_slater('d', *slater[0])\n",
    "umat_chb[:norb_d, :norb_d, :norb_d, :norb_d] += umat_delectrons_chb\n",
    "\n",
    "emat_rhb = np.zeros((20, 20), dtype='complex')\n",
    "emat_rhb += hopping_i\n",
    "tmat = sp.linalg.block_diag(edrixs.tmat_r2c('d',True), edrixs.tmat_r2c('d',True))\n",
    "emat_chb = edrixs.cb_op(emat_rhb, tmat)\n",
    "v_orbl = 2\n",
    "sx, sy, sz = edrixs.get_sx(v_orbl), edrixs.get_sy(v_orbl), edrixs.get_sz(v_orbl)\n",
    "zeeman = ext_B[0] * (2 * sx) + ext_B[1] * (2 * sy) + ext_B[2] * (2 * sz)\n",
    "emat_chb[0:norb_d, 0:norb_d] += zeeman"
   ]
  },
  {
   "cell_type": "code",
   "execution_count": 18,
   "id": "44cf1bbc-8233-4e6f-9128-e32f5cc833b5",
   "metadata": {},
   "outputs": [
    {
     "name": "stdout",
     "output_type": "stream",
     "text": [
      "Charge transfer energy is 0.7646 eV\n"
     ]
    }
   ],
   "source": [
    "energies = []\n",
    "\n",
    "for n_ligand_holes in [0, 1]:\n",
    "    basis_d = edrixs.get_fock_bin_by_N(10, nd + n_ligand_holes)\n",
    "    Hd = (edrixs.build_opers(2, emat_chb[:10, :10], basis_d)\n",
    "          + edrixs.build_opers(4, umat_chb[:10, :10, :10, :10], basis_d))\n",
    "    ed = sp.linalg.eigh(Hd)[0][0]\n",
    "\n",
    "    basis_L = edrixs.get_fock_bin_by_N(10, 10 - n_ligand_holes)\n",
    "    HL = (edrixs.build_opers(2, emat_chb[10:, 10:], basis_L)\n",
    "          + edrixs.build_opers(4, umat_chb[10:, 10:, 10:, 10:], basis_L))\n",
    "    eL = sp.linalg.eigh(HL)[0][0]\n",
    "    energies.append(ed + eL)\n",
    "\n",
    "print(f\"Charge transfer energy is {energies[1] - energies[0]:.4f} eV\")"
   ]
  },
  {
   "cell_type": "markdown",
   "id": "d3db3513-16d1-4e18-a74a-ea178c5cb664",
   "metadata": {},
   "source": [
    "# Find the contribution of the states with zero, one, two ligand holes to the ground state\n",
    "## The main notebook calculates the TOTAL number of holes averaging over all basis states"
   ]
  },
  {
   "cell_type": "code",
   "execution_count": 27,
   "id": "a0cfa190-0893-478b-977e-d451e39a89a6",
   "metadata": {},
   "outputs": [],
   "source": [
    "# Get the information for the first eigenvector (ground state)\n",
    "f = open('eigvec.'+str(1), 'rb')\n",
    "dt = np.dtype(np.complex128)\n",
    "ffile  = np.fromfile( f, dtype=dt, offset = 4)\n",
    "eigval = ffile[0:1].real[0]\n",
    "v_for  = ffile[1:]\n",
    "f.close()"
   ]
  },
  {
   "cell_type": "code",
   "execution_count": 28,
   "id": "3cd552d8-5c58-442b-9871-6026fae58dfc",
   "metadata": {},
   "outputs": [],
   "source": [
    "def decimalToBinary(n, norb):\n",
    "    '''\n",
    "    convert a decimal number to its binary form.\n",
    "    norb is the number of orbitals (i.e., the number of digits).\n",
    "    '''\n",
    "    # call python method \"bin\" and remove the prefix \"0b\"\n",
    "    binstr = bin(int(n)).replace(\"0b\", \"\")\n",
    "    # convert the string to a list using the edrixs convention (see: https://nsls-ii.github.io/edrixs/reference/fock_basis.html#edrixs.fock_basis.get_fock_full_N)\n",
    "    binlen = len(binstr)\n",
    "    binlist = []\n",
    "    for i in range(norb):\n",
    "        if i < binlen:\n",
    "            binlist.append(int(binstr[-1-i]))\n",
    "        else:\n",
    "            binlist.append(0)\n",
    "    return binlist\n",
    "norb=20\n",
    "dec_arr = np.loadtxt('fock_i.in', dtype='int')[1:]\n",
    "fock_i = []\n",
    "for dec in dec_arr:\n",
    "    fock_i.append(decimalToBinary(dec, norb))"
   ]
  },
  {
   "cell_type": "code",
   "execution_count": 29,
   "id": "5aeb194a-2eea-4470-802f-b6571e01ecb2",
   "metadata": {},
   "outputs": [],
   "source": [
    "basis = np.asarray(fock_i)\n",
    "v = v_for"
   ]
  },
  {
   "cell_type": "code",
   "execution_count": 30,
   "id": "d53bb9d3-8cd0-4057-b9f4-9821aa616af2",
   "metadata": {},
   "outputs": [],
   "source": [
    "norb_d = 10\n",
    "num_d_electrons = basis[:, :norb_d].sum(1)\n",
    "\n",
    "alphas = np.sum(np.abs(v[num_d_electrons==3])**2, axis=0)\n",
    "betas = np.sum(np.abs(v[num_d_electrons==4])**2, axis=0)\n",
    "gmmas = np.sum(np.abs(v[num_d_electrons==5])**2, axis=0)\n",
    "deltas = np.sum(np.abs(v[num_d_electrons==6])**2, axis=0)"
   ]
  },
  {
   "cell_type": "code",
   "execution_count": 31,
   "id": "3752ab39-3f91-4509-bb45-efe93d7da2d8",
   "metadata": {},
   "outputs": [
    {
     "name": "stdout",
     "output_type": "stream",
     "text": [
      "The contribution from states with zero ligand holes is: 0.32558748508113333\n"
     ]
    }
   ],
   "source": [
    "print('The contribution from states with zero ligand holes is: {}'.format(alphas))"
   ]
  },
  {
   "cell_type": "code",
   "execution_count": 32,
   "id": "6bfdddee-714f-4da5-ac98-b5f9b846cf63",
   "metadata": {},
   "outputs": [
    {
     "name": "stdout",
     "output_type": "stream",
     "text": [
      "The contribution from states with one ligand hole is: 0.4956371181298496\n"
     ]
    }
   ],
   "source": [
    "print('The contribution from states with one ligand hole is: {}'.format(betas))"
   ]
  },
  {
   "cell_type": "code",
   "execution_count": 34,
   "id": "988b9c28-ceb3-4649-8d43-cca54e8f561d",
   "metadata": {},
   "outputs": [
    {
     "name": "stdout",
     "output_type": "stream",
     "text": [
      "The contribution from states with two ligand holes is: 0.16243897950640038\n"
     ]
    }
   ],
   "source": [
    "print('The contribution from states with two ligand holes is: {}'.format(gmmas))"
   ]
  },
  {
   "cell_type": "code",
   "execution_count": 35,
   "id": "957e805a-a601-4c08-84f4-3ef063aceb23",
   "metadata": {},
   "outputs": [
    {
     "name": "stdout",
     "output_type": "stream",
     "text": [
      "The contribution from states with three ligand holes is: 0.015771440791113013\n"
     ]
    }
   ],
   "source": [
    "print('The contribution from states with three ligand holes is: {}'.format(deltas))"
   ]
  },
  {
   "cell_type": "code",
   "execution_count": null,
   "id": "074b3887-6b1f-4c1d-9e31-8ddd77c664d0",
   "metadata": {},
   "outputs": [],
   "source": []
  }
 ],
 "metadata": {
  "kernelspec": {
   "display_name": "Python 3 (ipykernel)",
   "language": "python",
   "name": "python3"
  },
  "language_info": {
   "codemirror_mode": {
    "name": "ipython",
    "version": 3
   },
   "file_extension": ".py",
   "mimetype": "text/x-python",
   "name": "python",
   "nbconvert_exporter": "python",
   "pygments_lexer": "ipython3",
   "version": "3.10.12"
  }
 },
 "nbformat": 4,
 "nbformat_minor": 5
}
